{
 "cells": [
  {
   "cell_type": "markdown",
   "metadata": {},
   "source": [
    "This notebook is for reducing the entire yelp dataset down to particular cities of interest. It also has some tests of the dataset's size."
   ]
  },
  {
   "cell_type": "code",
   "execution_count": 1,
   "metadata": {
    "collapsed": false
   },
   "outputs": [],
   "source": [
    "import json\n",
    "from tqdm import tqdm # a nice way to see the progress of long for loops\n",
    "import pickle\n",
    "import time\n",
    "from collections import Counter\n",
    "\n",
    "import matplotlib.pyplot as plt\n",
    "import numpy as np\n",
    "\n",
    "import matplotlib\n",
    "matplotlib.style.use('ggplot')\n",
    "%matplotlib inline"
   ]
  },
  {
   "cell_type": "code",
   "execution_count": 2,
   "metadata": {
    "collapsed": false
   },
   "outputs": [],
   "source": [
    "biz_data = []\n",
    "with open('/Users/kevinhale/Desktop/unneeded_yelp_data/yelp_academic_dataset_business.json') as f:\n",
    "    for line in f:\n",
    "        biz_data.append(json.loads(line))"
   ]
  },
  {
   "cell_type": "code",
   "execution_count": 7,
   "metadata": {
    "collapsed": false
   },
   "outputs": [],
   "source": [
    "rev_data = []\n",
    "with open('/Users/kevinhale/Desktop/unneeded_yelp_data/yelp_academic_dataset_review.json') as f:\n",
    "    for line in f:\n",
    "        rev_data.append(json.loads(line))"
   ]
  },
  {
   "cell_type": "code",
   "execution_count": 3,
   "metadata": {
    "collapsed": false
   },
   "outputs": [],
   "source": [
    "pits_zipcodes = [15201, 15202, 15203, 15204, 15205, 15206, 15207, 15208, 15209, 15210, 15211, 15212, 15213, 15214, 15215, 15216, 15217, 15218, 15219, 15220, 15221, 15222, 15223, 15224, 15225, 15226, 15227, 15228, 15229, 15230, 15231, 15232, 15233, 15234, 15235, 15236, 15237, 15238, 15239, 15240, 15241, 15242, 15243, 15244, 15250, 15251, 15252, 15253, 15254, 15255, 15257, 15258, 15259, 15260, 15261, 15262, 15264, 15265, 15267, 15268, 15270, 15272, 15274, 15275, 15276, 15277, 15278, 15279, 15281, 15282, 15283, 15286, 15289, 15290, 15295]\n",
    "phx_zipcodes = [85001, 85002, 85003, 85004, 85005, 85006, 85007, 85008, 85009, 85010, 85011, 85012, 85013, 85014, 85015, 85016, 85017, 85018, 85019, 85020, 85021, 85022, 85023, 85024, 85025, 85026, 85027, 85028, 85029, 85030, 85031, 85032, 85033, 85034, 85035, 85036, 85037, 85038, 85039, 85040, 85041, 85042, 85043, 85044, 85045, 85046, 85048, 85050, 85051, 85053, 85054, 85055, 85060, 85061, 85062, 85063, 85064, 85065, 85066, 85067, 85068, 85069, 85070, 85071, 85072, 85073, 85074, 85075, 85076, 85078, 85079, 85080, 85082, 85083, 85085, 85086, 85097, 85098, 85099]\n",
    "char_zipcodes = [28201, 28202, 28203, 28204, 28205, 28206, 28207, 28208, 28209, 28210, 28211, 28212, 28213, 28214, 28215, 28216, 28217, 28218, 28219, 28220, 28221, 28222, 28223, 28224, 28226, 28227, 28228, 28229, 28230, 28231, 28232, 28233, 28234, 28235, 28236, 28237, 28241, 28242, 28243, 28244, 28246, 28247, 28250, 28253, 28254, 28255, 28256, 28258, 28260, 28262, 28263, 28265, 28266, 28269, 28270, 28271, 28272, 28273, 28274, 28275, 28277, 28278, 28280, 28281, 28282, 28284, 28285, 28287, 28288, 28289, 28290, 28296, 28297, 28299]\n",
    "#Copied from google searches"
   ]
  },
  {
   "cell_type": "code",
   "execution_count": 8,
   "metadata": {
    "collapsed": false
   },
   "outputs": [],
   "source": [
    "pits_bizs = []\n",
    "for biz in biz_data:\n",
    "    address = biz['full_address']\n",
    "    zip_code = biz['full_address'][-5:]\n",
    "    try:\n",
    "        zip_code = int(zip_code)\n",
    "    except:\n",
    "        continue\n",
    "    if zip_code in char_zipcodes:\n",
    "        pits_bizs.append(biz)"
   ]
  },
  {
   "cell_type": "code",
   "execution_count": 9,
   "metadata": {
    "collapsed": false
   },
   "outputs": [],
   "source": [
    "#Want to make sure all businesses have a reviews element, even if it is empty.\n",
    "#Also clears out potential duplicates if things have been executed out of order.\n",
    "for biz in (pits_bizs):\n",
    "    biz['reviews'] = []"
   ]
  },
  {
   "cell_type": "code",
   "execution_count": 10,
   "metadata": {
    "collapsed": false
   },
   "outputs": [
    {
     "data": {
      "text/plain": [
       "2225213"
      ]
     },
     "execution_count": 10,
     "metadata": {},
     "output_type": "execute_result"
    }
   ],
   "source": [
    "len(rev_data)"
   ]
  },
  {
   "cell_type": "code",
   "execution_count": 11,
   "metadata": {
    "collapsed": false
   },
   "outputs": [
    {
     "name": "stderr",
     "output_type": "stream",
     "text": []
    }
   ],
   "source": [
    "# this takes a long time to run\n",
    "for i in tqdm(range(len(rev_data))):\n",
    "    rev = rev_data[i]\n",
    "    biz_id = rev['business_id'] \n",
    "    for biz in pits_bizs:\n",
    "        if biz_id == biz['business_id']:\n",
    "            biz['reviews'].append(rev)\n",
    "            break"
   ]
  },
  {
   "cell_type": "code",
   "execution_count": 12,
   "metadata": {
    "collapsed": false
   },
   "outputs": [],
   "source": [
    "pickle.dump(pits_bizs,open(\"charlotte_bizs.p\",\"wb\"))"
   ]
  },
  {
   "cell_type": "code",
   "execution_count": 2,
   "metadata": {
    "collapsed": true
   },
   "outputs": [],
   "source": [
    "pits_bizs = pickle.load(open(\"charlotte_bizs.p\",\"r\"))"
   ]
  },
  {
   "cell_type": "markdown",
   "metadata": {},
   "source": [
    "**Code above this line reduces the data to a city-only dataset**\n",
    "\n",
    "**Below, we find the date range of our city's data:**"
   ]
  },
  {
   "cell_type": "code",
   "execution_count": 3,
   "metadata": {
    "collapsed": false
   },
   "outputs": [],
   "source": [
    "#Get a simple list of all the reviews\n",
    "pits_revs = []\n",
    "for biz in pits_bizs:\n",
    "    pits_revs = pits_revs + biz['reviews']\n",
    "   "
   ]
  },
  {
   "cell_type": "code",
   "execution_count": 4,
   "metadata": {
    "collapsed": false
   },
   "outputs": [
    {
     "data": {
      "text/plain": [
       "True"
      ]
     },
     "execution_count": 4,
     "metadata": {},
     "output_type": "execute_result"
    }
   ],
   "source": [
    "#Check for any duplicate reviews. If true, there are no duplicates.\n",
    "rev_ids = []\n",
    "for rev in pits_revs:\n",
    "    rev_ids.append(rev['review_id'])\n",
    "len(rev_ids) == len(set(rev_ids))"
   ]
  },
  {
   "cell_type": "code",
   "execution_count": 5,
   "metadata": {
    "collapsed": false
   },
   "outputs": [],
   "source": [
    "#Convert to python's datetime format\n",
    "rev_dates = []\n",
    "for rev in pits_revs:\n",
    "    rev_date = time.strptime(rev['date'],'%Y-%m-%d')\n",
    "    rev_dates.append(rev_date)"
   ]
  },
  {
   "cell_type": "code",
   "execution_count": 6,
   "metadata": {
    "collapsed": false
   },
   "outputs": [],
   "source": [
    "#Find the earliest review\n",
    "earliest = rev_dates[0]\n",
    "earliest_index = 0\n",
    "for i in range(len(rev_dates)):\n",
    "    if rev_dates[i] < earliest:\n",
    "        earliest = rev_dates[i]\n",
    "        earliest_index = i"
   ]
  },
  {
   "cell_type": "code",
   "execution_count": 7,
   "metadata": {
    "collapsed": false
   },
   "outputs": [
    {
     "name": "stdout",
     "output_type": "stream",
     "text": [
      "time.struct_time(tm_year=2004, tm_mon=10, tm_mday=24, tm_hour=0, tm_min=0, tm_sec=0, tm_wday=6, tm_yday=298, tm_isdst=-1)\n",
      "74555\n"
     ]
    }
   ],
   "source": [
    "print earliest\n",
    "print earliest_index"
   ]
  },
  {
   "cell_type": "code",
   "execution_count": 8,
   "metadata": {
    "collapsed": false
   },
   "outputs": [],
   "source": [
    "date_years = []\n",
    "for date in rev_dates:\n",
    "    date_years.append(date.tm_year)\n",
    "date_years = Counter(date_years)\n",
    "years = date_years.keys()\n",
    "counts = date_years.values()"
   ]
  },
  {
   "cell_type": "code",
   "execution_count": 9,
   "metadata": {
    "collapsed": false
   },
   "outputs": [
    {
     "name": "stdout",
     "output_type": "stream",
     "text": [
      "[3, 17, 166, 437, 2476, 2604, 7022, 13203, 15073, 19833, 25847, 36027]\n",
      "[2004, 2005, 2006, 2007, 2008, 2009, 2010, 2011, 2012, 2013, 2014, 2015]\n"
     ]
    }
   ],
   "source": [
    "print counts\n",
    "print years"
   ]
  },
  {
   "cell_type": "code",
   "execution_count": 12,
   "metadata": {
    "collapsed": false
   },
   "outputs": [
    {
     "data": {
      "image/png": "[encoded data removed]",
      "text/plain": [
       "<matplotlib.figure.Figure at 0x10a2f0fd0>"
      ]
     },
     "metadata": {},
     "output_type": "display_data"
    }
   ],
   "source": [
    "n_groups = len(years)\n",
    "\n",
    "index = np.arange(n_groups)\n",
    "\n",
    "fig = plt.figure()\n",
    "fig.set_size_inches(10,7)\n",
    "bar_width = 0.5\n",
    "rects1 = plt.bar(index, counts,bar_width)\n",
    "plt.xlabel('Years')\n",
    "plt.ylabel('Number of Reviews')\n",
    "plt.xticks(index + bar_width, years)\n",
    "\n",
    "\n",
    "plt.tight_layout()\n",
    "plt.show()"
   ]
  },
  {
   "cell_type": "code",
   "execution_count": null,
   "metadata": {
    "collapsed": true
   },
   "outputs": [],
   "source": []
  }
 ],
 "metadata": {
  "kernelspec": {
   "display_name": "Python 2",
   "language": "python",
   "name": "python2"
  },
  "language_info": {
   "codemirror_mode": {
    "name": "ipython",
    "version": 2
   },
   "file_extension": ".py",
   "mimetype": "text/x-python",
   "name": "python",
   "nbconvert_exporter": "python",
   "pygments_lexer": "ipython2",
   "version": "2.7.5"
  }
 },
 "nbformat": 4,
 "nbformat_minor": 0
}
